{
  "nbformat": 4,
  "nbformat_minor": 0,
  "metadata": {
    "colab": {
      "provenance": [],
      "authorship_tag": "ABX9TyPB2IS6rRjGjw96/DK0F5JV",
      "include_colab_link": true
    },
    "kernelspec": {
      "name": "python3",
      "display_name": "Python 3"
    },
    "language_info": {
      "name": "python"
    }
  },
  "cells": [
    {
      "cell_type": "markdown",
      "metadata": {
        "id": "view-in-github",
        "colab_type": "text"
      },
      "source": [
        "<a href=\"https://colab.research.google.com/github/KarlaMichelleSorianoSanhez/EDP-1/blob/main/Ondas_viajeras.ipynb\" target=\"_parent\"><img src=\"https://colab.research.google.com/assets/colab-badge.svg\" alt=\"Open In Colab\"/></a>"
      ]
    },
    {
      "cell_type": "markdown",
      "source": [
        "#Vamos a graficar la función y suponer que esta representa una perturbación en una cuerda.\n",
        "\n",
        "\n",
        "\n",
        "\n",
        "a.   Mostrar que al hacer el cambio de variable $x'=x-ct$ la perturbación se desplaza a la derecha\n",
        "\n",
        "\n",
        "Es decir la onda viaja a la derecha.\n",
        "\n",
        "Considerando que la función:\n",
        "\n",
        "$\n",
        "f(x') = \\exp\\left( -\\frac{(x' - 0.5)^2}{0.01} \\right)\n",
        "$\n",
        "\n",
        "representa una perturbación localizada en una cuerda. Si realizamos el cambio de variable:\n",
        "\n",
        "$\n",
        "x' = x - ct\n",
        "$\n",
        "\n",
        "entonces la función se convierte en:\n",
        "\n",
        "$\n",
        "f(x, t) = \\exp\\left( -\\frac{(x - ct - 0.5)^2}{0.01} \\right)\n",
        "$\n",
        "\n",
        "Esto representa una **onda que se desplaza hacia la derecha** con velocidad $c $.\n",
        "\n",
        "Vamos a graficar esta onda para distintos valores de $t $."
      ],
      "metadata": {
        "id": "VhO_IDh1Mb_m"
      }
    },
    {
      "cell_type": "code",
      "source": [
        "import numpy as np\n",
        "import matplotlib.pyplot as plt\n"
      ],
      "metadata": {
        "id": "IfRDAOOMMuqh"
      },
      "execution_count": null,
      "outputs": []
    },
    {
      "cell_type": "markdown",
      "source": [
        "Definir los parametros"
      ],
      "metadata": {
        "id": "cVUJeqlaTHjO"
      }
    },
    {
      "cell_type": "code",
      "source": [
        "c = 1          # Velocidad de propagación\n",
        "x = np.linspace(0, 1, 400)  # Dominio espacial\n",
        "t_vals = [0, 0.1, 0.2, 0.3] # Tiempos para graficar\n"
      ],
      "metadata": {
        "id": "U-vHH0goSjGa"
      },
      "execution_count": null,
      "outputs": []
    },
    {
      "cell_type": "markdown",
      "source": [
        "Definir la función de onda viajera hacia la derecha"
      ],
      "metadata": {
        "id": "xE9wwwQxTQXE"
      }
    },
    {
      "cell_type": "code",
      "source": [
        "def f_derecha(x, t):\n",
        "    x_prime = x - c*t\n",
        "    return np.exp(-((x_prime - 0.5)**2) / 0.01)"
      ],
      "metadata": {
        "id": "Rgi9XmrjS4sE"
      },
      "execution_count": null,
      "outputs": []
    },
    {
      "cell_type": "markdown",
      "source": [
        "Graficar"
      ],
      "metadata": {
        "id": "UHyTKU6iTVP2"
      }
    },
    {
      "cell_type": "code",
      "source": [
        "# Gráfica\n",
        "plt.figure(figsize=(8,5))\n",
        "for t in t_vals:\n",
        "    plt.plot(x, f_derecha(x, t), label=f't = {t}')\n",
        "\n",
        "plt.title('Onda viajera hacia la derecha')\n",
        "plt.xlabel('x')\n",
        "plt.ylabel('f(x,t)')\n",
        "plt.legend()\n",
        "plt.grid(True)\n",
        "plt.show()"
      ],
      "metadata": {
        "id": "sDXiSqdOS8LD"
      },
      "execution_count": null,
      "outputs": []
    },
    {
      "cell_type": "markdown",
      "source": [
        "b.   Mostrar que al hacer el cambio de variable $x'=x+ct$ la perturbación se desplaza a la izquierda\n",
        "\n",
        "\n",
        "Si realizamos el cambio de variable:\n",
        "\n",
        "$\n",
        "x' = x + ct\n",
        "$\n",
        "\n",
        "la función se convierte en:\n",
        "\n",
        "$\n",
        "f(x, t) = \\exp\\left( -\\frac{(x + ct - 0.5)^2}{0.01} \\right)\n",
        "$\n",
        "\n",
        "Esta transformación indica que la onda se desplaza hacia la **i**"
      ],
      "metadata": {
        "id": "J0UhitW3M2np"
      }
    },
    {
      "cell_type": "markdown",
      "source": [
        "Definimos la función de onda que vijara hacia la izquierda"
      ],
      "metadata": {
        "id": "FHbF4tirULIH"
      }
    },
    {
      "cell_type": "code",
      "source": [
        "\n",
        "def f_izquierda(x, t):\n",
        "    x_prime = x + c*t\n",
        "    return np.exp(-((x_prime - 0.5)**2) / 0.01)\n"
      ],
      "metadata": {
        "id": "-WCAVPyXM8-w"
      },
      "execution_count": null,
      "outputs": []
    },
    {
      "cell_type": "markdown",
      "source": [
        "Graficar"
      ],
      "metadata": {
        "id": "Hg2Jgx6sUZdR"
      }
    },
    {
      "cell_type": "code",
      "source": [
        "\n",
        "plt.figure(figsize=(8,5))\n",
        "for t in t_vals:\n",
        "    plt.plot(x, f_izquierda(x, t), label=f't = {t}')\n",
        "\n",
        "plt.title('Onda viajera hacia la izquierda')\n",
        "plt.xlabel('x')\n",
        "plt.ylabel('f(x,t)')\n",
        "plt.legend()\n",
        "plt.grid(True)\n",
        "plt.show()"
      ],
      "metadata": {
        "id": "GL8PyMylUbsq"
      },
      "execution_count": null,
      "outputs": []
    },
    {
      "cell_type": "markdown",
      "source": [
        "\n",
        "c.   Graficar la superposición de las ondas viajeras de los incisos anteriores\n",
        "\n",
        "\n",
        "\n",
        "Sumando las dos ondas viajeras obtenidas en los incisos anteriores, obtenemos:\n",
        "\n",
        "$\n",
        "f(x, t) = f_derecha(x, t) + f_izquierda(x, t)\n",
        "$\n",
        "\n",
        "Esta superposición puede interpretarse como la combinación de dos ondas que viajan en direcciones opuestas. En ciertos contextos (como en condiciones de frontera fija), esta suma genera una **onda estacionaria**.\n",
        "\n",
        "Graficamos a continuación la evolución de esta superposición para distintos valores de \\( t \\)."
      ],
      "metadata": {
        "id": "NIFKUTOBNa67"
      }
    },
    {
      "cell_type": "markdown",
      "source": [
        "Definir la función de superposición de ambas ondas"
      ],
      "metadata": {
        "id": "TG2AZ48fVB2h"
      }
    },
    {
      "cell_type": "code",
      "source": [
        "# Superposición de ambas ondas\n",
        "def f_superpuesta(x, t):\n",
        "    return f_derecha(x, t) + f_izquierda(x, t)\n"
      ],
      "metadata": {
        "id": "DxJVYehtVKYl"
      },
      "execution_count": null,
      "outputs": []
    },
    {
      "cell_type": "markdown",
      "source": [
        "Graficar"
      ],
      "metadata": {
        "id": "WK0PWQ2XVM9b"
      }
    },
    {
      "cell_type": "code",
      "source": [
        "\n",
        "# Gráfica\n",
        "plt.figure(figsize=(8,5))\n",
        "for t in t_vals:\n",
        "    plt.plot(x, f_superpuesta(x, t), label=f't = {t}')\n",
        "\n",
        "plt.title('Superposición de ondas viajeras')\n",
        "plt.xlabel('x')\n",
        "plt.ylabel('f(x,t)')\n",
        "plt.legend()\n",
        "plt.grid(True)\n",
        "plt.show()"
      ],
      "metadata": {
        "id": "UiOkSigiNtsB"
      },
      "execution_count": null,
      "outputs": []
    }
  ]
}