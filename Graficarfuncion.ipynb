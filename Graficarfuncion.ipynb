{
  "nbformat": 4,
  "nbformat_minor": 0,
  "metadata": {
    "colab": {
      "provenance": [],
      "authorship_tag": "ABX9TyMqJUfzHnjBmMOliOkIeXCi",
      "include_colab_link": true
    },
    "kernelspec": {
      "name": "python3",
      "display_name": "Python 3"
    },
    "language_info": {
      "name": "python"
    }
  },
  "cells": [
    {
      "cell_type": "markdown",
      "metadata": {
        "id": "view-in-github",
        "colab_type": "text"
      },
      "source": [
        "<a href=\"https://colab.research.google.com/github/KarlaMichelleSorianoSanhez/EDP-1/blob/main/Graficarfuncion.ipynb\" target=\"_parent\"><img src=\"https://colab.research.google.com/assets/colab-badge.svg\" alt=\"Open In Colab\"/></a>"
      ]
    },
    {
      "cell_type": "markdown",
      "source": [
        "$ Graficar$ $la$ $función$ $ y=x² $"
      ],
      "metadata": {
        "id": "NejNBCu5pGfU"
      }
    },
    {
      "cell_type": "code",
      "source": [
        "import matplotlib.pyplot as plt\n",
        "\n",
        "x = range(-10, 11)  # Valores de x de -10 a 10\n",
        "y = [i**2 for i in x]  # Calculamos y = x^2\n",
        "\n",
        "plt.plot(x, y)  # Crear la gráfica\n",
        "plt.title(\"y = x^2\")  # Título\n",
        "plt.xlabel(\"x\")  # Etiqueta del eje x\n",
        "plt.ylabel(\"y\")  # Etiqueta del eje y\n",
        "plt.grid()  # Cuadrícula\n",
        "plt.show()  # Mostrar la gráfica"
      ],
      "metadata": {
        "id": "oz1mo__XpB4f"
      },
      "execution_count": null,
      "outputs": []
    }
  ]
}