{
  "nbformat": 4,
  "nbformat_minor": 0,
  "metadata": {
    "colab": {
      "provenance": [],
      "authorship_tag": "ABX9TyNsXaowoAoewwzz6M0FjMia",
      "include_colab_link": true
    },
    "kernelspec": {
      "name": "python3",
      "display_name": "Python 3"
    },
    "language_info": {
      "name": "python"
    }
  },
  "cells": [
    {
      "cell_type": "markdown",
      "metadata": {
        "id": "view-in-github",
        "colab_type": "text"
      },
      "source": [
        "<a href=\"https://colab.research.google.com/github/KarlaMichelleSorianoSanhez/EDP-1/blob/main/Forma_canonica_.ipynb\" target=\"_parent\"><img src=\"https://colab.research.google.com/assets/colab-badge.svg\" alt=\"Open In Colab\"/></a>"
      ]
    },
    {
      "cell_type": "markdown",
      "source": [
        "### Clasificación y transformación canónica de una EDP de segundo orden\n",
        "\n",
        "Este programa:\n",
        "1. Calcula el discriminante $I = B^2 - 4AC$\n",
        "\n",
        "2. Clasifica la ecuación como **parabólica**, **elíptica** o **hiperbólica**\n",
        "\n",
        "3. Si es hiperbólica, aplica un cambio de coordenadas lineal:\n",
        "   $\n",
        "   \\xi = (-B + \\sqrt{B^2 - 4AC})x + 2Ay,\n",
        "  \\quad\n",
        "   \\eta = (-B - \\sqrt{B^2 - 4AC})x + 2Ay\n",
        "   $\n",
        "4. Devuelve la ecuación en su **forma canónica**.\n"
      ],
      "metadata": {
        "id": "p-ACVItdY4Fi"
      }
    },
    {
      "cell_type": "markdown",
      "source": [
        "Estudiamos la ecuación diferencial parcial:\n",
        "\n",
        "$\n",
        "u_{xx} - 3u_{xy} - 10u_{yy} = 0\n",
        "$\n",
        "\n",
        "Esta es una EDP lineal de segundo orden con coeficientes constantes, que se escribe en la forma general:\n",
        "\n",
        "$A u_{xx} + B u_{xy} + C u_{yy} = 0\n",
        "$\n",
        "donde se identifican los coeficientes:\n",
        "- $ A = 1 $\n",
        "- $ B = -3 $\n",
        "- $C = -10 $"
      ],
      "metadata": {
        "id": "q485se0bhtzf"
      }
    },
    {
      "cell_type": "code",
      "source": [
        "from sympy import symbols, simplify, sqrt, pretty\n",
        "\n",
        "# Definir variables simbólicas\n",
        "x, y = symbols('x y')\n",
        "\n",
        "# Coeficientes de la EDP del ejemplo 1.9\n",
        "A_val = 1     # u_xx\n",
        "B_val = -3    # u_xy\n",
        "C_val = -10   # u_yy"
      ],
      "metadata": {
        "id": "_hcU95F9fZgE"
      },
      "execution_count": 22,
      "outputs": []
    },
    {
      "cell_type": "markdown",
      "source": [
        "###  Discriminante e Identificación del tipo de ecuación\n",
        "\n",
        "Se calcula el **discriminante**:\n",
        "\n",
        "$\n",
        "I = B^2 - 4AC = (-3)^2 - 4(1)(-10) = 9 + 40 = 49\n",
        "$\n",
        "\n",
        "Como $I = 49 > 0 $, la ecuación se clasifica como:\n",
        "\n",
        "Ecuación hiperbólica"
      ],
      "metadata": {
        "id": "Xu8BUq4TiXNf"
      }
    },
    {
      "cell_type": "code",
      "source": [
        "# 1. Discriminante\n",
        "I = B_val**2 - 4*A_val*C_val\n",
        "print(f\"Discriminante I = {I}\")"
      ],
      "metadata": {
        "colab": {
          "base_uri": "https://localhost:8080/"
        },
        "id": "WZqkPewIhIuH",
        "outputId": "a5167eb6-bd55-4622-9032-0307800fd29f"
      },
      "execution_count": 23,
      "outputs": [
        {
          "output_type": "stream",
          "name": "stdout",
          "text": [
            "Discriminante I = 49\n"
          ]
        }
      ]
    },
    {
      "cell_type": "code",
      "source": [
        "# 2. Clasificación\n",
        "if I == 0:\n",
        "    tipo = \"Parabólica\"\n",
        "elif I < 0:\n",
        "    tipo = \"Elíptica\"\n",
        "else:\n",
        "    tipo = \"Hiperbólica\"\n",
        "\n",
        "print(f\"Tipo de ecuación: {tipo}\")\n"
      ],
      "metadata": {
        "colab": {
          "base_uri": "https://localhost:8080/"
        },
        "id": "Sg3nEp5OhPc6",
        "outputId": "65a59e13-f02a-4c6c-fd9d-767d3ffcfab6"
      },
      "execution_count": 24,
      "outputs": [
        {
          "output_type": "stream",
          "name": "stdout",
          "text": [
            "Tipo de ecuación: Hiperbólica\n"
          ]
        }
      ]
    },
    {
      "cell_type": "markdown",
      "source": [
        "###  Cambio de coordenadas: Transformación canónica\n",
        "\n",
        "En el caso hiperbólico, se puede transformar la ecuación a su **forma canónica** utilizando un cambio de variables lineal de la forma:\n",
        "\n",
        "$\n",
        "\\xi = (-B + \\sqrt{I})x + 2Ay, \\quad\n",
        "\\eta = (-B - \\sqrt{I})x + 2Ay\n",
        "$\n",
        "\n",
        "Sustituyendo los valores:\n",
        "\n",
        "$\n",
        "\\xi = (3 + 7)x + 2y = 10x + 2y, \\quad\n",
        "$\n",
        "$\n",
        "\\eta = (3 - 7)x + 2y = -4x + 2y\n",
        "$"
      ],
      "metadata": {
        "id": "2Py64rnYio51"
      }
    },
    {
      "cell_type": "code",
      "source": [
        "# Si es hiperbólica, aplicar cambio de coordenadas\n",
        "if tipo == \"Hiperbólica\":\n",
        "    delta = sqrt(I)\n",
        "    xi = (-B_val + delta)*x + 2*A_val*y\n",
        "    eta = (-B_val - delta)*x + 2*A_val*y\n",
        "\n",
        "    print(\"\\nTransformación a coordenadas canónicas:\")\n",
        "    print(f\"ξ = {pretty(simplify(xi))}\")\n",
        "    print(f\"η = {pretty(simplify(eta))}\")\n",
        "    print(\"\\nForma canónica esperada: u_ξη = 0\")\n",
        "else:\n",
        "    print(\"No se aplica cambio: no es ecuación hiperbólica.\")"
      ],
      "metadata": {
        "colab": {
          "base_uri": "https://localhost:8080/"
        },
        "id": "WiX6QRcnhcu9",
        "outputId": "aa19a882-91f5-4ad3-bf3f-f7b405ddbf2d"
      },
      "execution_count": 25,
      "outputs": [
        {
          "output_type": "stream",
          "name": "stdout",
          "text": [
            "\n",
            "Transformación a coordenadas canónicas:\n",
            "ξ = 10⋅x + 2⋅y\n",
            "η = -4⋅x + 2⋅y\n",
            "\n",
            "Forma canónica esperada: u_ξη = 0\n"
          ]
        }
      ]
    }
  ]
}