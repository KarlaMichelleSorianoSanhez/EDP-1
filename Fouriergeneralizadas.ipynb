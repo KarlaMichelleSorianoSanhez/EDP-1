{
  "nbformat": 4,
  "nbformat_minor": 0,
  "metadata": {
    "colab": {
      "provenance": [],
      "authorship_tag": "ABX9TyN/dVDAtYbm8Z5Unu72ARhV",
      "include_colab_link": true
    },
    "kernelspec": {
      "name": "python3",
      "display_name": "Python 3"
    },
    "language_info": {
      "name": "python"
    }
  },
  "cells": [
    {
      "cell_type": "markdown",
      "metadata": {
        "id": "view-in-github",
        "colab_type": "text"
      },
      "source": [
        "<a href=\"https://colab.research.google.com/github/KarlaMichelleSorianoSanhez/EDP-1/blob/main/Fouriergeneralizadas.ipynb\" target=\"_parent\"><img src=\"https://colab.research.google.com/assets/colab-badge.svg\" alt=\"Open In Colab\"/></a>"
      ]
    },
    {
      "cell_type": "markdown",
      "source": [
        "#SERIES DE FOURIER GENERALIZADAS"
      ],
      "metadata": {
        "id": "qRMp7xT5IEdv"
      }
    },
    {
      "cell_type": "markdown",
      "source": [
        "##1.Verificar y resolver el problema de Strum-louville\n",
        "\n",
        "\n",
        "$ f''(x) + 2f'(x) + \\lambda f(x) = 0,\\quad \\text{con } f(0) = f(1) = 0$\n"
      ],
      "metadata": {
        "id": "aF2TGrQWG-nU"
      }
    },
    {
      "cell_type": "code",
      "source": [
        "import sympy as sp\n",
        "import numpy as np\n",
        "import matplotlib.pyplot as plt\n",
        "sp.init_printing()\n",
        "\n",
        "\n"
      ],
      "metadata": {
        "id": "u8fk2A9mH--h"
      },
      "execution_count": 29,
      "outputs": []
    },
    {
      "cell_type": "markdown",
      "source": [
        "####Definimos las variables"
      ],
      "metadata": {
        "id": "Y0cJ7y7vIOOs"
      }
    },
    {
      "cell_type": "code",
      "source": [
        "x, lmb = sp.symbols('x lambda', real=True)\n",
        "f = sp.Function('f')"
      ],
      "metadata": {
        "id": "E9r6jjTOIZl3"
      },
      "execution_count": 30,
      "outputs": []
    },
    {
      "cell_type": "markdown",
      "source": [
        "Paso 1: Verificación de que es un problema de Sturm–Liouville\n",
        "\n",
        "Multiplicamos la ecuación por un **factor integrador** $ \\mu(x) = e^{2x} $:\n",
        "\n",
        "$\n",
        "e^{2x} f'' + 2e^{2x} f' + \\lambda e^{2x} f = \\frac{d}{dx} \\left( e^{2x} f' \\right) + \\lambda e^{2x} f = 0\n",
        "$\n",
        "\n",
        "Esto es exactamente de la forma:\n",
        "\n",
        "$\n",
        "\\frac{d}{dx}\\left[ p(x) f' \\right] + \\left[ \\lambda w(x) - q(x) \\right] f = 0\n",
        "$\n",
        "Con:\n",
        "\n",
        "- $ p(x) = e^{2x} $\n",
        "- $w(x)= e^{2x}$\n",
        "- $ q(x)= 0$\n",
        "\n"
      ],
      "metadata": {
        "id": "rkqwyUMUIwmj"
      }
    },
    {
      "cell_type": "code",
      "source": [
        "mu = sp.exp(2*x)\n",
        "sl_form = sp.simplify(sp.diff(mu * sp.diff(f(x), x), x) + mu * lmb * f(x))\n",
        "sl_form  # Confirma forma de Sturm-Liouville"
      ],
      "metadata": {
        "colab": {
          "base_uri": "https://localhost:8080/",
          "height": 58
        },
        "id": "GlNqDn63JqCd",
        "outputId": "cd585d28-d5ca-4da8-d7ce-ae2f121aae97"
      },
      "execution_count": 31,
      "outputs": [
        {
          "output_type": "execute_result",
          "data": {
            "text/plain": [
              "⎛                       2       ⎞     \n",
              "⎜           d          d        ⎟  2⋅x\n",
              "⎜λ⋅f(x) + 2⋅──(f(x)) + ───(f(x))⎟⋅ℯ   \n",
              "⎜           dx           2      ⎟     \n",
              "⎝                      dx       ⎠     "
            ],
            "text/latex": "$\\displaystyle \\left(\\lambda f{\\left(x \\right)} + 2 \\frac{d}{d x} f{\\left(x \\right)} + \\frac{d^{2}}{d x^{2}} f{\\left(x \\right)}\\right) e^{2 x}$"
          },
          "metadata": {},
          "execution_count": 31
        }
      ]
    },
    {
      "cell_type": "markdown",
      "source": [
        "Resolvemos la ecuacion de manera general"
      ],
      "metadata": {
        "id": "9vZRD5tAJvll"
      }
    },
    {
      "cell_type": "code",
      "source": [
        "sol=sp.dsolve(f(x).diff(x,2)+2*f(x).diff(x)+lmb*f(x),f(x))\n",
        "f_gen=sol.rhs\n",
        "f_gen"
      ],
      "metadata": {
        "colab": {
          "base_uri": "https://localhost:8080/",
          "height": 42
        },
        "id": "ExdaVvjXJ9uA",
        "outputId": "bf4b0fef-7f90-401a-ce44-adc370efa14e"
      },
      "execution_count": 32,
      "outputs": [
        {
          "output_type": "execute_result",
          "data": {
            "text/plain": [
              "      ⎛  _______    ⎞          ⎛  _______    ⎞\n",
              "    x⋅⎝╲╱ 1 - λ  - 1⎠       -x⋅⎝╲╱ 1 - λ  + 1⎠\n",
              "C₁⋅ℯ                  + C₂⋅ℯ                  "
            ],
            "text/latex": "$\\displaystyle C_{1} e^{x \\left(\\sqrt{1 - \\lambda} - 1\\right)} + C_{2} e^{- x \\left(\\sqrt{1 - \\lambda} + 1\\right)}$"
          },
          "metadata": {},
          "execution_count": 32
        }
      ]
    },
    {
      "cell_type": "markdown",
      "source": [
        "Aplicamos condiciones de frontera\n",
        "\n",
        "Aplicamos $ f(0) = 0 \\Rightarrow C_1 + C_2 = 0 \\Rightarrow C_2 = -C_1 $\n",
        "\n",
        "Sustituyendo en la solución:\n",
        "\n",
        "$f(x) = C_1 e^{-x} \\left( e^{r x} - e^{-r x} \\right) = C_1 e^{-x} \\cdot 2\\sinh(rx) $\n",
        "\n",
        "Con $r = \\sqrt{1 - \\lambda} $\n",
        "\n",
        "Aplicamos $ f(1) = 0 $\n",
        "\n",
        "$f(1) = C_1 e^{-1} \\cdot 2\\sinh(r) = 0 \\Rightarrow \\sinh(r) = 0 \\Rightarrow r = n\\pi i \\Rightarrow \\sqrt{1 - \\lambda} = n\\pi i $\n",
        "\n",
        "Elevando al cuadrado:\n",
        "$1 - \\lambda = -n^2\\pi^2 \\Rightarrow \\lambda_n = 1 + n^2\\pi^2$\n"
      ],
      "metadata": {
        "id": "tyxEutmRKH4n"
      }
    },
    {
      "cell_type": "code",
      "source": [
        "\n",
        "C1, C2 = sp.symbols('C1 C2')\n",
        "r = sp.sqrt(1 - lmb)\n",
        "f_expr = sp.exp(-x) * (C1 * sp.exp(r*x) + C2 * sp.exp(-r*x))\n",
        "\n",
        "# Aplicamos f(0) = 0:\n",
        "f0 = sp.Eq(f_expr.subs(x, 0), 0)  # C1 + C2 = 0 => C2 = -C1\n",
        "\n",
        "# Sustituimos C2 = -C1 en f(x)\n",
        "f_expr_reducida = f_expr.subs(C2, -C1)\n",
        "\n",
        "# Aplicamos f(1) = 0 para obtener la ecuación para lambda\n",
        "f1 = sp.simplify(f_expr_reducida.subs(x, 1))\n",
        "f1_eq = sp.Eq(f1, 0)\n",
        "\n",
        "# Esto nos lleva a: sinh(r) = 0 => r = n*pi*i => lambda_n = 1 + n^2*pi^2\n",
        "# Confirmamos con SymPy que esta condición implica los autovalores correctos\n",
        "n = sp.symbols('n', integer=True, positive=True)\n",
        "lmb_n = 1 + n**2 * sp.pi**2\n",
        "f_n = sp.exp(-x) * sp.sin(n * sp.pi * x)\n",
        "\n",
        "lmb_n, f_n"
      ],
      "metadata": {
        "colab": {
          "base_uri": "https://localhost:8080/",
          "height": 38
        },
        "id": "ZBOuU2NsKRhF",
        "outputId": "eb49c62d-6d14-494c-fbac-7f50b50a066d"
      },
      "execution_count": 33,
      "outputs": [
        {
          "output_type": "execute_result",
          "data": {
            "text/plain": [
              "⎛ 2  2       -x           ⎞\n",
              "⎝π ⋅n  + 1, ℯ  ⋅sin(π⋅n⋅x)⎠"
            ],
            "text/latex": "$\\displaystyle \\left( \\pi^{2} n^{2} + 1, \\  e^{- x} \\sin{\\left(\\pi n x \\right)}\\right)$"
          },
          "metadata": {},
          "execution_count": 33
        }
      ]
    },
    {
      "cell_type": "markdown",
      "source": [
        "\n",
        "- **Autovalores:** $\\lambda_n = 1 + n^2\\pi^2 para n=1,2,3 ...$\n",
        "- **Autofunciones:** $f_n(x) = e^{-x} \\sin(n\\pi x) n=1,2,3, ...$\n"
      ],
      "metadata": {
        "id": "oPHwWHeULIcI"
      }
    },
    {
      "cell_type": "markdown",
      "source": [
        "##2. Usar las eigenfunciones de este problema para expandir en series de fourier genralizadas la función $ u(x) = e^{-x}$\n",
        "\n",
        "Expandir la función:\n",
        "\n",
        "$\n",
        "u(x) = e^{-x}\n",
        "$\n",
        "\n",
        "como una serie de Fourier generalizada en términos de las autofunciones $f_n(x) = e^{-x} \\sin(n\\pi x) $"
      ],
      "metadata": {
        "id": "aQKquae3Q9wK"
      }
    },
    {
      "cell_type": "markdown",
      "source": [
        "Fórmula de los coeficientes\n",
        "\n",
        "La fórmula para los coeficientes \\( c_n \\) en una expansión de Fourier generalizada con peso \\( w(x) \\) es:\n",
        "\n",
        "$\n",
        "c_n = \\frac{\\int_0^1 u(x) f_n(x) w(x)\\, dx}{\\int_0^1 f_n^2(x)\\, w(x)\\, dx}\n",
        "$\n",
        "\n",
        "donde:\n",
        "\n",
        "- $u(x) = e^{-x} $\n",
        "- $f_n(x) = e^{-x} \\sin(n\\pi x)$\n",
        "- $w(x) = e^{2x} $\n"
      ],
      "metadata": {
        "id": "hc1D1yOaQm29"
      }
    },
    {
      "cell_type": "code",
      "source": [
        "# Variables simbólicas\n",
        "x, n = sp.symbols('x n', real=True)\n",
        "sp.init_printing()\n",
        "\n",
        "# Definimos funciones\n",
        "u = sp.exp(-x)\n",
        "w = sp.exp(2*x)\n",
        "f_n = sp.exp(-x) * sp.sin(n * sp.pi * x)\n",
        "\n",
        "# Fórmula general para c_n\n",
        "num = sp.integrate(u * f_n * w, (x, 0, 1))        # Numerador: ∫ sin(nπx)\n",
        "den = sp.integrate(f_n**2 * w, (x, 0, 1))         # Denominador: ∫ sin²(nπx)\n",
        "c_n = sp.simplify(num / den)\n",
        "\n",
        "# Mostramos los primeros cinco c_n\n",
        "for i in range(1, 10):\n",
        "    cn_i = c_n.subs(n, i)\n",
        "    cn_decimal = sp.N(cn_i, 6)  # Aproximación decimal\n",
        "    print(f\"c_{i} = {cn_i} ≈ {cn_decimal}\")"
      ],
      "metadata": {
        "colab": {
          "base_uri": "https://localhost:8080/"
        },
        "id": "pipduj1_N1j1",
        "outputId": "60435a4c-18d1-4003-b206-b37036ef6fae"
      },
      "execution_count": 34,
      "outputs": [
        {
          "output_type": "stream",
          "name": "stdout",
          "text": [
            "c_1 = 4/pi ≈ 1.27324\n",
            "c_2 = 0 ≈ 0\n",
            "c_3 = 4/(3*pi) ≈ 0.424413\n",
            "c_4 = 0 ≈ 0\n",
            "c_5 = 4/(5*pi) ≈ 0.254648\n",
            "c_6 = 0 ≈ 0\n",
            "c_7 = 4/(7*pi) ≈ 0.181891\n",
            "c_8 = 0 ≈ 0\n",
            "c_9 = 4/(9*pi) ≈ 0.141471\n"
          ]
        }
      ]
    },
    {
      "cell_type": "markdown",
      "source": [
        "\n",
        "La serie de Fourier generalizada al truncarla queda:\n",
        "\n",
        "$\n",
        "u(x) \\approx \\sum_{n=1}^5 c_n f_n(x) = \\sum_{n=1}^5 c_n\\, e^{-x} \\sin(n\\pi x)\n",
        "$\n",
        "\n",
        "Donde los coeficientes \\( c_n \\) se calculan simbólicamente usando SymPy."
      ],
      "metadata": {
        "id": "DLianpa_Tlbh"
      }
    },
    {
      "cell_type": "code",
      "source": [
        "# Parámetro: número de armónicos\n",
        "N = 5# Cambia este valor si deseas más o menos términos\n",
        "\n",
        "# Construcción de la serie truncada\n",
        "serie = sum(c_n.subs(n, i) * sp.exp(-x) * sp.sin(i * sp.pi * x) for i in range(1, N + 1))\n",
        "\n",
        "# Mostrar la expresión de la serie\n",
        "print(f\"Serie de Fourier generalizada truncada a {N} términos:\")\n",
        "sp.pprint(serie, use_unicode=True)"
      ],
      "metadata": {
        "colab": {
          "base_uri": "https://localhost:8080/"
        },
        "id": "1u1ZdFKQRrYr",
        "outputId": "ec85c7c4-2d7b-41b9-d20d-8eb08fec8209"
      },
      "execution_count": 35,
      "outputs": [
        {
          "output_type": "stream",
          "name": "stdout",
          "text": [
            "Serie de Fourier generalizada truncada a 5 términos:\n",
            "   -x               -x                 -x           \n",
            "4⋅ℯ  ⋅sin(π⋅x)   4⋅ℯ  ⋅sin(3⋅π⋅x)   4⋅ℯ  ⋅sin(5⋅π⋅x)\n",
            "────────────── + ──────────────── + ────────────────\n",
            "      π                3⋅π                5⋅π       \n"
          ]
        }
      ]
    },
    {
      "cell_type": "markdown",
      "source": [
        "Grafica"
      ],
      "metadata": {
        "id": "_GWdwBGXUT8q"
      }
    },
    {
      "cell_type": "code",
      "source": [
        "\n",
        "plt.figure(figsize=(8, 5))\n",
        "plt.plot(x_vals, u_vals, label=r'$u(x) = e^{-x}$', linewidth=2, color='black')\n",
        "plt.plot(x_vals, s_vals, label=fr'$S_{{{N}}}(x)$: serie truncada', linestyle='--', color='blue')\n",
        "plt.title(fr'Comparación: $u(x)$ vs. serie de Fourier generalizada (N = {N})')\n",
        "plt.xlabel('x')\n",
        "plt.ylabel('u(x)')\n",
        "plt.grid(True)\n",
        "plt.legend()\n",
        "plt.tight_layout()\n",
        "plt.show()\n"
      ],
      "metadata": {
        "colab": {
          "base_uri": "https://localhost:8080/",
          "height": 507
        },
        "id": "KZmOr0JySGND",
        "outputId": "f96fc14a-4b01-4964-8649-3544661d8c34"
      },
      "execution_count": 36,
      "outputs": [
        {
          "output_type": "display_data",
          "data": {
            "text/plain": [
              "<Figure size 800x500 with 1 Axes>"
            ],
            "image/png": "[encoded data removed]"
          },
          "metadata": {}
        }
      ]
    }
  ]
}